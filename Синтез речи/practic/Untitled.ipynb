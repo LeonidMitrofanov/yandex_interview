{
 "cells": [
  {
   "cell_type": "code",
   "execution_count": 4,
   "id": "d12000cf-332c-4406-a7aa-054f9d34bed4",
   "metadata": {},
   "outputs": [
    {
     "name": "stdout",
     "output_type": "stream",
     "text": [
      "Collecting bark\n",
      "  Downloading bark-0.1.5-py3-none-any.whl.metadata (15 kB)\n",
      "Collecting boto3 (from bark)\n",
      "  Downloading boto3-1.40.55-py3-none-any.whl.metadata (6.6 kB)\n",
      "Collecting encodec (from bark)\n",
      "  Downloading encodec-0.1.1.tar.gz (3.7 MB)\n",
      "\u001b[2K     \u001b[90m━━━━━━━━━━━━━━━━━━━━━━━━━━━━━━━━━━━━━━━━\u001b[0m \u001b[32m3.7/3.7 MB\u001b[0m \u001b[31m194.3 kB/s\u001b[0m  \u001b[33m0:00:18\u001b[0mm0:00:01\u001b[0m00:02\u001b[0m\n",
      "  Installing build dependencies ... \u001b[?25done\n",
      "\u001b[?25h  Getting requirements to build wheel ... \u001b[?25ldone\n",
      "\u001b[?25h  Preparing metadata (pyproject.toml) ... \u001b[?25ldone\n",
      "\u001b[?25hCollecting funcy (from bark)\n",
      "  Downloading funcy-2.0-py2.py3-none-any.whl.metadata (5.9 kB)\n",
      "Requirement already satisfied: huggingface-hub>=0.14.1 in /Library/Frameworks/Python.framework/Versions/3.11/lib/python3.11/site-packages (from bark) (0.35.3)\n",
      "Requirement already satisfied: numpy in /Library/Frameworks/Python.framework/Versions/3.11/lib/python3.11/site-packages (from bark) (1.26.4)\n",
      "Requirement already satisfied: scipy in /Library/Frameworks/Python.framework/Versions/3.11/lib/python3.11/site-packages (from bark) (1.11.4)\n",
      "Collecting tokenizers (from bark)\n",
      "  Downloading tokenizers-0.22.1-cp39-abi3-macosx_11_0_arm64.whl.metadata (6.8 kB)\n",
      "Requirement already satisfied: torch in /Library/Frameworks/Python.framework/Versions/3.11/lib/python3.11/site-packages (from bark) (2.7.1)\n",
      "Requirement already satisfied: tqdm in /Library/Frameworks/Python.framework/Versions/3.11/lib/python3.11/site-packages (from bark) (4.66.4)\n",
      "Collecting transformers (from bark)\n",
      "  Downloading transformers-4.57.1-py3-none-any.whl.metadata (43 kB)\n",
      "Requirement already satisfied: filelock in /Library/Frameworks/Python.framework/Versions/3.11/lib/python3.11/site-packages (from huggingface-hub>=0.14.1->bark) (3.18.0)\n",
      "Requirement already satisfied: fsspec>=2023.5.0 in /Library/Frameworks/Python.framework/Versions/3.11/lib/python3.11/site-packages (from huggingface-hub>=0.14.1->bark) (2025.5.1)\n",
      "Requirement already satisfied: packaging>=20.9 in /Library/Frameworks/Python.framework/Versions/3.11/lib/python3.11/site-packages (from huggingface-hub>=0.14.1->bark) (23.2)\n",
      "Requirement already satisfied: pyyaml>=5.1 in /Library/Frameworks/Python.framework/Versions/3.11/lib/python3.11/site-packages (from huggingface-hub>=0.14.1->bark) (6.0.2)\n",
      "Requirement already satisfied: requests in /Library/Frameworks/Python.framework/Versions/3.11/lib/python3.11/site-packages (from huggingface-hub>=0.14.1->bark) (2.32.3)\n",
      "Requirement already satisfied: typing-extensions>=3.7.4.3 in /Library/Frameworks/Python.framework/Versions/3.11/lib/python3.11/site-packages (from huggingface-hub>=0.14.1->bark) (4.12.2)\n",
      "Requirement already satisfied: hf-xet<2.0.0,>=1.1.3 in /Library/Frameworks/Python.framework/Versions/3.11/lib/python3.11/site-packages (from huggingface-hub>=0.14.1->bark) (1.1.10)\n",
      "Collecting botocore<1.41.0,>=1.40.55 (from boto3->bark)\n",
      "  Downloading botocore-1.40.55-py3-none-any.whl.metadata (5.7 kB)\n",
      "Collecting jmespath<2.0.0,>=0.7.1 (from boto3->bark)\n",
      "  Downloading jmespath-1.0.1-py3-none-any.whl.metadata (7.6 kB)\n",
      "Collecting s3transfer<0.15.0,>=0.14.0 (from boto3->bark)\n",
      "  Downloading s3transfer-0.14.0-py3-none-any.whl.metadata (1.7 kB)\n",
      "Requirement already satisfied: python-dateutil<3.0.0,>=2.1 in /Library/Frameworks/Python.framework/Versions/3.11/lib/python3.11/site-packages (from botocore<1.41.0,>=1.40.55->boto3->bark) (2.8.2)\n",
      "Requirement already satisfied: urllib3!=2.2.0,<3,>=1.25.4 in /Library/Frameworks/Python.framework/Versions/3.11/lib/python3.11/site-packages (from botocore<1.41.0,>=1.40.55->boto3->bark) (2.2.2)\n",
      "Requirement already satisfied: six>=1.5 in /Library/Frameworks/Python.framework/Versions/3.11/lib/python3.11/site-packages (from python-dateutil<3.0.0,>=2.1->botocore<1.41.0,>=1.40.55->boto3->bark) (1.16.0)\n",
      "Requirement already satisfied: torchaudio in /Library/Frameworks/Python.framework/Versions/3.11/lib/python3.11/site-packages (from encodec->bark) (2.7.1)\n",
      "Collecting einops (from encodec->bark)\n",
      "  Downloading einops-0.8.1-py3-none-any.whl.metadata (13 kB)\n",
      "Requirement already satisfied: charset-normalizer<4,>=2 in /Library/Frameworks/Python.framework/Versions/3.11/lib/python3.11/site-packages (from requests->huggingface-hub>=0.14.1->bark) (3.3.2)\n",
      "Requirement already satisfied: idna<4,>=2.5 in /Library/Frameworks/Python.framework/Versions/3.11/lib/python3.11/site-packages (from requests->huggingface-hub>=0.14.1->bark) (3.7)\n",
      "Requirement already satisfied: certifi>=2017.4.17 in /Library/Frameworks/Python.framework/Versions/3.11/lib/python3.11/site-packages (from requests->huggingface-hub>=0.14.1->bark) (2025.6.15)\n",
      "Requirement already satisfied: sympy>=1.13.3 in /Library/Frameworks/Python.framework/Versions/3.11/lib/python3.11/site-packages (from torch->bark) (1.14.0)\n",
      "Requirement already satisfied: networkx in /Library/Frameworks/Python.framework/Versions/3.11/lib/python3.11/site-packages (from torch->bark) (3.5)\n",
      "Requirement already satisfied: jinja2 in /Library/Frameworks/Python.framework/Versions/3.11/lib/python3.11/site-packages (from torch->bark) (3.1.5)\n",
      "Requirement already satisfied: mpmath<1.4,>=1.1.0 in /Library/Frameworks/Python.framework/Versions/3.11/lib/python3.11/site-packages (from sympy>=1.13.3->torch->bark) (1.3.0)\n",
      "Requirement already satisfied: MarkupSafe>=2.0 in /Library/Frameworks/Python.framework/Versions/3.11/lib/python3.11/site-packages (from jinja2->torch->bark) (3.0.2)\n",
      "Requirement already satisfied: regex!=2019.12.17 in /Library/Frameworks/Python.framework/Versions/3.11/lib/python3.11/site-packages (from transformers->bark) (2024.11.6)\n",
      "Collecting safetensors>=0.4.3 (from transformers->bark)\n",
      "  Downloading safetensors-0.6.2-cp38-abi3-macosx_11_0_arm64.whl.metadata (4.1 kB)\n",
      "Downloading bark-0.1.5-py3-none-any.whl (2.6 MB)\n",
      "\u001b[2K   \u001b[90m━━━━━━━━━━━━━━━━━━━━━━━━━━━━━━━━━━━━━━━━\u001b[0m \u001b[32m2.6/2.6 MB\u001b[0m \u001b[31m213.8 kB/s\u001b[0m  \u001b[33m0:00:11\u001b[0m eta \u001b[36m0:00:01\u001b[0m\n",
      "Downloading boto3-1.40.55-py3-none-any.whl (139 kB)\n",
      "Downloading botocore-1.40.55-py3-none-any.whl (14.1 MB)\n",
      "\u001b[2K   \u001b[90m━━━━━━━━━━━━━━━━━━━━━━━━━━━━━━━━━━━━━━━━\u001b[0m \u001b[32m14.1/14.1 MB\u001b[0m \u001b[31m117.3 kB/s\u001b[0m  \u001b[33m0:01:58\u001b[0mm0:00:02\u001b[0m00:05\u001b[0m\n",
      "Downloading jmespath-1.0.1-py3-none-any.whl (20 kB)\n",
      "Downloading s3transfer-0.14.0-py3-none-any.whl (85 kB)\n",
      "Downloading einops-0.8.1-py3-none-any.whl (64 kB)\n",
      "Downloading funcy-2.0-py2.py3-none-any.whl (30 kB)\n",
      "Downloading tokenizers-0.22.1-cp39-abi3-macosx_11_0_arm64.whl (2.9 MB)\n",
      "\u001b[2K   \u001b[90m━━━━━━━━━━━━━━━━━━━━━━━━━━━━━━━━━━━━━━━━\u001b[0m \u001b[32m2.9/2.9 MB\u001b[0m \u001b[31m195.6 kB/s\u001b[0m  \u001b[33m0:00:15\u001b[0mm0:00:01\u001b[0m00:02\u001b[0m\n",
      "Downloading transformers-4.57.1-py3-none-any.whl (12.0 MB)\n",
      "\u001b[2K   \u001b[90m━━━━━━━━━━━━━━━━━━━━━━━━━━━━━━━━━━━━━━━━\u001b[0m \u001b[32m12.0/12.0 MB\u001b[0m \u001b[31m171.1 kB/s\u001b[0m  \u001b[33m0:01:31\u001b[0mm0:00:02\u001b[0m00:03\u001b[0m\n",
      "Downloading safetensors-0.6.2-cp38-abi3-macosx_11_0_arm64.whl (432 kB)\n",
      "Building wheels for collected packages: encodec\n",
      "  Building wheel for encodec (pyproject.toml) ... \u001b[?25ldone\n",
      "\u001b[?25h  Created wheel for encodec: filename=encodec-0.1.1-py3-none-any.whl size=45853 sha256=9e883544b079b0f9db61e98058db019eb062ea6b7c4ac99e04470c6afbbce518\n",
      "  Stored in directory: /Users/leonid/Library/Caches/pip/wheels/b4/a4/88/480018a664e58ca7ce6708759193ee51b017b3b72aa3df8a85\n",
      "Successfully built encodec\n",
      "Installing collected packages: funcy, safetensors, jmespath, einops, botocore, tokenizers, s3transfer, transformers, encodec, boto3, bark\n",
      "\u001b[2K   \u001b[90m━━━━━━━━━━━━━━━━━━━━━━━━━━━━━━━━━━━━━━━━\u001b[0m \u001b[32m11/11\u001b[0m [bark]2m10/11\u001b[0m [bark]formers]\n",
      "\u001b[1A\u001b[2KSuccessfully installed bark-0.1.5 boto3-1.40.55 botocore-1.40.55 einops-0.8.1 encodec-0.1.1 funcy-2.0 jmespath-1.0.1 s3transfer-0.14.0 safetensors-0.6.2 tokenizers-0.22.1 transformers-4.57.1\n"
     ]
    }
   ],
   "source": [
    "!pip install bark"
   ]
  },
  {
   "cell_type": "code",
   "execution_count": null,
   "id": "aa6d83b7-7537-47b9-b4a2-40b460c3ae87",
   "metadata": {},
   "outputs": [
    {
     "name": "stderr",
     "output_type": "stream",
     "text": [
      "No GPU being used. Careful, inference might be very slow!\n"
     ]
    },
    {
     "data": {
      "application/vnd.jupyter.widget-view+json": {
       "model_id": "6dd67c3fbbff48878653f44c811d877d",
       "version_major": 2,
       "version_minor": 0
      },
      "text/plain": [
       "text_2.pt:   0%|          | 0.00/5.35G [00:00<?, ?B/s]"
      ]
     },
     "metadata": {},
     "output_type": "display_data"
    }
   ],
   "source": [
    "from bark import SAMPLE_RATE, generate_audio, preload_models\n",
    "import scipy.io.wavfile as wavfile\n",
    "\n",
    "def text_to_song(prompt: str, output_path: str = \"output.wav\"):\n",
    "    # загрузка моделей\n",
    "    preload_models()\n",
    "    # генерация аудио\n",
    "    audio_array = generate_audio(prompt)\n",
    "    # сохранение\n",
    "    wavfile.write(output_path, SAMPLE_RATE, audio_array)\n",
    "    print(f\"Сохранено в {output_path}\")\n",
    "\n",
    "if __name__ == \"__main__\":\n",
    "    prompt = \"\"\"\n",
    "    A mellow pop song about summer nights, with soft piano, light drums,\n",
    "    and a female vocal singing the lyrics:\n",
    "    \"Under the stars we dance, the night is ours...\"\n",
    "    \"\"\"\n",
    "    text_to_song(prompt, \"summer_nights.wav\")\n"
   ]
  },
  {
   "cell_type": "code",
   "execution_count": null,
   "id": "b11a5eb9-e455-496c-9554-1c401f6f4b1b",
   "metadata": {},
   "outputs": [],
   "source": []
  }
 ],
 "metadata": {
  "kernelspec": {
   "display_name": "Python 3 (ipykernel)",
   "language": "python",
   "name": "python3"
  },
  "language_info": {
   "codemirror_mode": {
    "name": "ipython",
    "version": 3
   },
   "file_extension": ".py",
   "mimetype": "text/x-python",
   "name": "python",
   "nbconvert_exporter": "python",
   "pygments_lexer": "ipython3",
   "version": "3.11.2"
  }
 },
 "nbformat": 4,
 "nbformat_minor": 5
}
